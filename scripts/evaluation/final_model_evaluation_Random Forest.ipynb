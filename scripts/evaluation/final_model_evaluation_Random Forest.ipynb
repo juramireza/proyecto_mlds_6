{
 "cells": [
  {
   "cell_type": "markdown",
   "metadata": {
    "application/vnd.databricks.v1+cell": {
     "cellMetadata": {},
     "inputWidgets": {},
     "nuid": "4aa2edaf-6814-458a-9005-5995be832e88",
     "showTitle": false,
     "title": ""
    },
    "id": "eEnLwFLkA7Zx"
   },
   "source": [
    "# Modelo de bosques aleatorios (Random Forest)\n",
    "\n",
    "En este notebook, se presenta el proceso de evaluación del modelo de bosques aleatorios, utilizado para predecir si un paciente tienen VIH (SIDA) o no."
   ]
  },
  {
   "cell_type": "markdown",
   "metadata": {
    "application/vnd.databricks.v1+cell": {
     "cellMetadata": {},
     "inputWidgets": {},
     "nuid": "b0a15b14-b78f-450b-b735-5a57fe3510b0",
     "showTitle": false,
     "title": ""
    },
    "id": "-JXaa5eJBr1T"
   },
   "source": [
    "##1. Construcción y evaluación del modelo \n",
    "\n",
    "Se hace la construcción del modelo con los mejor hiperparámetros obtenidos aplicando el algoritmo de optuna. "
   ]
  },
  {
   "cell_type": "code",
   "execution_count": 0,
   "metadata": {
    "application/vnd.databricks.v1+cell": {
     "cellMetadata": {},
     "inputWidgets": {},
     "nuid": "bcbeaed2-ed8e-4e3a-8847-bd725b76ec97",
     "showTitle": false,
     "title": ""
    },
    "collapsed": true,
    "id": "5dqf-s85ZSbM"
   },
   "outputs": [],
   "source": [
    "mlflow.set_tracking_uri(\"http://localhost:5000\")\n",
    "exp_id = mlflow.create_experiment(name=\"final_model\", artifact_location=\"mlruns/final_model/\")\n",
    "\n",
    "run = mlflow.start_run(experiment_id = exp_id, run_name=\"final_model\")\n",
    "\n",
    "from mlflow.models import infer_signature"
   ]
  },
  {
   "cell_type": "markdown",
   "metadata": {
    "application/vnd.databricks.v1+cell": {
     "cellMetadata": {},
     "inputWidgets": {},
     "nuid": "78091d51-d119-48e4-8afa-9eaf400b25fd",
     "showTitle": false,
     "title": ""
    }
   },
   "source": [
    "1.1. Construcción y evaluación del modelo\n",
    "\n",
    "Se imprime la matriz de confusión y se aprecia el comportamiento del modelo"
   ]
  },
  {
   "cell_type": "code",
   "execution_count": 0,
   "metadata": {
    "application/vnd.databricks.v1+cell": {
     "cellMetadata": {},
     "inputWidgets": {},
     "nuid": "4cf6d076-a15c-47cf-9ea9-cc838ff1b69a",
     "showTitle": false,
     "title": ""
    },
    "colab": {
     "base_uri": "https://localhost:8080/",
     "height": 544
    },
    "id": "rShwkwnLsJav",
    "outputId": "1aa79cd7-a08d-4fa5-896d-650b7342b15e"
   },
   "outputs": [],
   "source": [
    "X_train = pd.read_csv('/content/proyecto_mlds_6/data/train_test_data/X_train.csv')\n",
    "y_train = pd.read_csv('/content/proyecto_mlds_6/data/train_test_data/y_train.csv')\n",
    "X_test = pd.read_csv('/content/proyecto_mlds_6/data/train_test_data/X_test.csv')\n",
    "y_test = pd.read_csv('/content/proyecto_mlds_6/data/train_test_data/y_test.csv')\n",
    "\n",
    "params = {'n_estimators': 73,\n",
    "          'criterion': 'gini',\n",
    "          'max_depth': 50,\n",
    "          'min_samples_split': 20,\n",
    "          'min_samples_leaf': 2,\n",
    "          'min_weight_fraction_leaf': 2.5214105645479093e-05,\n",
    "          'ccp_alpha': 1.8151142421551003e-05,\n",
    "          'max_samples': 0.959999447846922}\n",
    "model = RandomForestClassifier(**params).fit(X_train, y_train)\n",
    "\n",
    "# Infer the model signature\n",
    "y_pred = model.predict(X_test)\n",
    "signature = infer_signature(X_test, y_pred)\n",
    "\n",
    "# Log parameters and metrics using the MLflow APIs\n",
    "mlflow.log_params(params)\n",
    "mlflow.log_metrics({\"accuracy\": accuracy_score(y_test, y_pred),\n",
    "                    \"f1\": f1_score(y_test, y_pred)})\n",
    "\n",
    "# Confusion matrix\n",
    "mc = confusion_matrix(y_test, y_pred)\n",
    "fig, ax = plt.subplots()\n",
    "sns.heatmap(mc, annot=True, fmt=\"d\", cmap=\"crest\", linewidths=.5, annot_kws={\"size\": 16})\n",
    "ax.set_xlabel(\"Etiquetas predichas\")\n",
    "ax.set_ylabel(\"Etiquetas reales\")\n",
    "ax.set_title(\"Matriz de confusión para el bosque aleatorio\")\n",
    "fig.show()\n",
    "fig.savefig(\"confusion_matrix.png\")\n",
    "mlflow.log_artifact(\"confusion_matrix.png\", \"confusion_matrix\")\n",
    "\n",
    "# Log the sklearn model and register as version 1\n",
    "mlflow.sklearn.log_model(sk_model=model,\n",
    "                         artifact_path=\"final_model\",\n",
    "                         signature=signature,\n",
    "                         registered_model_name=\"final_model\")\n",
    "\n",
    "mlflow.end_run()"
   ]
  },
  {
   "cell_type": "markdown",
   "metadata": {
    "application/vnd.databricks.v1+cell": {
     "cellMetadata": {},
     "inputWidgets": {},
     "nuid": "d4cbd28a-b673-45ee-9baf-dd21ffd87144",
     "showTitle": false,
     "title": ""
    }
   },
   "source": [
    "##1.2.Métricas de Exactitud y F1 Score\n",
    "\n",
    "Se revisan las métricas de Exactitud y F1 Score, obteniendo un valor de 0.87 para la exactitud y un valor de F! Score de 0.76. "
   ]
  },
  {
   "cell_type": "code",
   "execution_count": 0,
   "metadata": {
    "application/vnd.databricks.v1+cell": {
     "cellMetadata": {},
     "inputWidgets": {},
     "nuid": "f5c236e4-9cc6-4035-babd-986ff3c7e799",
     "showTitle": false,
     "title": ""
    },
    "colab": {
     "base_uri": "https://localhost:8080/"
    },
    "id": "mY0goWS4YN0_",
    "outputId": "16512d82-deaa-48fc-9c3a-930291efd661"
   },
   "outputs": [],
   "source": [
    "print('Exactitud: ',accuracy_score(y_test, y_pred))\n",
    "print('Métrica F1: ',f1_score(y_test, y_pred))"
   ]
  },
  {
   "cell_type": "markdown",
   "metadata": {
    "application/vnd.databricks.v1+cell": {
     "cellMetadata": {},
     "inputWidgets": {},
     "nuid": "7f01fad8-df99-46cf-81fe-0498dc52b313",
     "showTitle": false,
     "title": ""
    }
   },
   "source": [
    "##1.3.Reporte de métricas de clasificación \n",
    "\n"
   ]
  },
  {
   "cell_type": "code",
   "execution_count": 0,
   "metadata": {
    "application/vnd.databricks.v1+cell": {
     "cellMetadata": {},
     "inputWidgets": {},
     "nuid": "addee16d-93e7-4eab-bb80-230df55d07d9",
     "showTitle": false,
     "title": ""
    },
    "colab": {
     "base_uri": "https://localhost:8080/"
    },
    "id": "qczFNGGHa0_Q",
    "outputId": "516c988d-d2ac-4915-c111-d94ba704153e"
   },
   "outputs": [],
   "source": [
    "print(classification_report(y_test, y_pred))"
   ]
  }
 ],
 "metadata": {
  "application/vnd.databricks.v1+notebook": {
   "dashboards": [],
   "environmentMetadata": null,
   "language": "python",
   "notebookMetadata": {
    "pythonIndentUnit": 4
   },
   "notebookName": "final_model_evaluation_Random Forest",
   "widgets": {}
  },
  "colab": {
   "provenance": []
  },
  "kernelspec": {
   "display_name": "Python 3",
   "name": "python3"
  },
  "language_info": {
   "name": "python"
  }
 },
 "nbformat": 4,
 "nbformat_minor": 0
}
