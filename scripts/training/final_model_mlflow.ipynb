{
 "cells": [
  {
   "cell_type": "markdown",
   "metadata": {
    "application/vnd.databricks.v1+cell": {
     "cellMetadata": {},
     "inputWidgets": {},
     "nuid": "f62f8f4c-ff29-4ad4-888f-3d4558c93f53",
     "showTitle": false,
     "title": ""
    },
    "id": "eEnLwFLkA7Zx"
   },
   "source": [
    "# Modelo de bosque aleatorio\n",
    "En este cuaderno aplico un modelo de bosque aleatorio (*random forest*) para el ejercicio de clasificación que se está aplicando en el proyecto. Haré una optimización de hiperparámetros empleando optuna. Empiezo por importar las librerías y los servicios necesarios."
   ]
  },
  {
   "cell_type": "code",
   "execution_count": 0,
   "metadata": {
    "application/vnd.databricks.v1+cell": {
     "cellMetadata": {},
     "inputWidgets": {},
     "nuid": "6fb88c0d-5fda-4d6a-bfdb-a49498716879",
     "showTitle": false,
     "title": ""
    },
    "id": "YbXzwav5B5Kl"
   },
   "outputs": [],
   "source": [
    "import warnings\n",
    "warnings.filterwarnings(\"ignore\")\n",
    "import os\n",
    "from IPython import get_ipython\n",
    "from IPython.display import display\n",
    "import pandas as pd\n",
    "import numpy as np\n",
    "import matplotlib.pyplot as plt\n",
    "import seaborn as sns\n",
    "from sklearn.ensemble import RandomForestClassifier\n",
    "from sklearn.metrics import accuracy_score,f1_score,confusion_matrix,classification_report"
   ]
  },
  {
   "cell_type": "code",
   "execution_count": 0,
   "metadata": {
    "application/vnd.databricks.v1+cell": {
     "cellMetadata": {},
     "inputWidgets": {},
     "nuid": "5bf90121-f837-4bb7-bd68-00c8a674e1f4",
     "showTitle": false,
     "title": ""
    },
    "colab": {
     "base_uri": "https://localhost:8080/"
    },
    "id": "37tZnS831-le",
    "outputId": "75ba5d81-6fd1-4470-dcb0-8e59da22b9a3"
   },
   "outputs": [],
   "source": [
    "!apt install git\n",
    "!pip install mlflow requests"
   ]
  },
  {
   "cell_type": "code",
   "execution_count": 0,
   "metadata": {
    "application/vnd.databricks.v1+cell": {
     "cellMetadata": {},
     "inputWidgets": {},
     "nuid": "c86c041e-e02f-4c89-b1a3-7a9f451c4ab6",
     "showTitle": false,
     "title": ""
    },
    "id": "6lG0oO34ODun"
   },
   "outputs": [],
   "source": [
    "import mlflow"
   ]
  },
  {
   "cell_type": "code",
   "execution_count": 0,
   "metadata": {
    "application/vnd.databricks.v1+cell": {
     "cellMetadata": {},
     "inputWidgets": {},
     "nuid": "45144bbd-562f-4258-b3aa-bc1c8726c838",
     "showTitle": false,
     "title": ""
    },
    "id": "l3bPzMe-CyF7"
   },
   "outputs": [],
   "source": [
    "token = \"\"\n",
    "repo_url = \"https://github.com/juramireza/proyecto_mlds_6\"\n",
    "import re\n",
    "pat = re.compile(r\"(https://)(.*)\")\n",
    "match = re.match(pat, repo_url)\n",
    "url_token = \"\".join([match.group(1), token, \"@\", match.group(2)])\n",
    "os.environ[\"GITHUB\"] = url_token"
   ]
  },
  {
   "cell_type": "code",
   "execution_count": 0,
   "metadata": {
    "application/vnd.databricks.v1+cell": {
     "cellMetadata": {},
     "inputWidgets": {},
     "nuid": "197676ae-d283-40cd-ba67-934120e7a2b7",
     "showTitle": false,
     "title": ""
    },
    "colab": {
     "base_uri": "https://localhost:8080/"
    },
    "id": "gUnfApAfC5y0",
    "outputId": "1957440b-a1b8-4d2b-efaf-54a6ffabef8b"
   },
   "outputs": [],
   "source": [
    "!git clone $GITHUB\n",
    "\n",
    "%cd proyecto_mlds_6"
   ]
  },
  {
   "cell_type": "code",
   "execution_count": 0,
   "metadata": {
    "application/vnd.databricks.v1+cell": {
     "cellMetadata": {},
     "inputWidgets": {},
     "nuid": "234e31b2-27fd-44b9-8b17-661447bcd338",
     "showTitle": false,
     "title": ""
    },
    "colab": {
     "base_uri": "https://localhost:8080/"
    },
    "id": "lsaqCrGmDANT",
    "outputId": "48005957-f034-4036-a903-77a953be75ea"
   },
   "outputs": [],
   "source": [
    "!git config --global user.email \"jdortizc@unal.edu.co\"\n",
    "!git config --global user.name \"jdoc\"\n",
    "!git config --global init.defaultBranch master\n",
    "!git init"
   ]
  },
  {
   "cell_type": "code",
   "execution_count": 0,
   "metadata": {
    "application/vnd.databricks.v1+cell": {
     "cellMetadata": {},
     "inputWidgets": {},
     "nuid": "876b85df-45ec-4033-9290-47464deb5b45",
     "showTitle": false,
     "title": ""
    },
    "colab": {
     "base_uri": "https://localhost:8080/"
    },
    "id": "1n5iWPAZDIYC",
    "outputId": "aeafb845-6bd2-4848-fe6c-672b3c6d072c"
   },
   "outputs": [],
   "source": [
    "!git remote -v"
   ]
  },
  {
   "cell_type": "code",
   "execution_count": 0,
   "metadata": {
    "application/vnd.databricks.v1+cell": {
     "cellMetadata": {},
     "inputWidgets": {},
     "nuid": "c9474079-36d5-486f-a6c9-4f7e087ef7ea",
     "showTitle": false,
     "title": ""
    },
    "colab": {
     "base_uri": "https://localhost:8080/"
    },
    "id": "ZP8Vg5YzDOSi",
    "outputId": "4717c4a0-1e0c-4d43-c72c-60242d4132d3"
   },
   "outputs": [],
   "source": [
    "!pwd\n",
    "!ls -a\n",
    "!git status"
   ]
  },
  {
   "cell_type": "code",
   "execution_count": 0,
   "metadata": {
    "application/vnd.databricks.v1+cell": {
     "cellMetadata": {},
     "inputWidgets": {},
     "nuid": "35d2920c-828d-462f-85ad-fec19d29d80d",
     "showTitle": false,
     "title": ""
    },
    "colab": {
     "base_uri": "https://localhost:8080/"
    },
    "id": "rgGPbvPODYuh",
    "outputId": "148ff3d3-e8c9-4e77-9958-444250596c90"
   },
   "outputs": [],
   "source": [
    "!git commit -m \"Modelo final del proyecto: bosque aleatorio\""
   ]
  },
  {
   "cell_type": "markdown",
   "metadata": {
    "application/vnd.databricks.v1+cell": {
     "cellMetadata": {},
     "inputWidgets": {},
     "nuid": "56d5118e-bda5-4a63-99df-e773f1c8c531",
     "showTitle": false,
     "title": ""
    },
    "id": "uzmL_VVXX0vs"
   },
   "source": [
    "## Comandos para usar *mlflow* mediante *ngrok*"
   ]
  },
  {
   "cell_type": "code",
   "execution_count": 0,
   "metadata": {
    "application/vnd.databricks.v1+cell": {
     "cellMetadata": {},
     "inputWidgets": {},
     "nuid": "5b3ffd13-e01d-4663-af5e-feb40baf9d51",
     "showTitle": false,
     "title": ""
    },
    "colab": {
     "base_uri": "https://localhost:8080/"
    },
    "id": "YGI9M8qKX6GL",
    "outputId": "551ea35e-c1ce-49c5-d459-9e6cbcab0b1b"
   },
   "outputs": [],
   "source": [
    "!mkdir mlruns/final_model\n",
    "\n",
    "!git add /content/proyecto_mlds_6/mlruns/final_model\n",
    "!git commit -m \"Carpeta para guardar los datos de MLFLow del modelo final\""
   ]
  },
  {
   "cell_type": "code",
   "execution_count": 0,
   "metadata": {
    "application/vnd.databricks.v1+cell": {
     "cellMetadata": {},
     "inputWidgets": {},
     "nuid": "1eff56b8-91d7-43f5-9d0b-d157c940802e",
     "showTitle": false,
     "title": ""
    },
    "id": "ToNi9m8DYAUf"
   },
   "outputs": [],
   "source": [
    "command = \"\"\"\n",
    "mlflow server \\\n",
    "        --backend-store-uri sqlite:///tracking.db \\\n",
    "        --default-artifact-root file:mlruns/final_model \\\n",
    "        -p 5000 &\n",
    "\"\"\"\n",
    "get_ipython().system_raw(command)"
   ]
  },
  {
   "cell_type": "code",
   "execution_count": 0,
   "metadata": {
    "application/vnd.databricks.v1+cell": {
     "cellMetadata": {},
     "inputWidgets": {},
     "nuid": "e7437441-7a94-4874-9dfa-7126d33a487b",
     "showTitle": false,
     "title": ""
    },
    "colab": {
     "base_uri": "https://localhost:8080/"
    },
    "id": "UWCHVfOFYFJz",
    "outputId": "d50dc198-83a8-4f60-f417-201f18ecf954"
   },
   "outputs": [],
   "source": [
    "!pip install pyngrok"
   ]
  },
  {
   "cell_type": "code",
   "execution_count": 0,
   "metadata": {
    "application/vnd.databricks.v1+cell": {
     "cellMetadata": {},
     "inputWidgets": {},
     "nuid": "e6a5375f-c20b-40db-b8f5-17ed401785d4",
     "showTitle": false,
     "title": ""
    },
    "id": "c_4buEMTYKNz"
   },
   "outputs": [],
   "source": [
    "token = \"\" # Agregue el token dentro de las comillas\n",
    "os.environ[\"NGROK_TOKEN\"] = token"
   ]
  },
  {
   "cell_type": "code",
   "execution_count": 0,
   "metadata": {
    "application/vnd.databricks.v1+cell": {
     "cellMetadata": {},
     "inputWidgets": {},
     "nuid": "e83b548b-3f4b-4397-9ab0-c3c6c0bcb196",
     "showTitle": false,
     "title": ""
    },
    "colab": {
     "base_uri": "https://localhost:8080/"
    },
    "id": "g3YYrf8xYPM7",
    "outputId": "55f27377-912d-4e62-bc8d-1279b23f8973"
   },
   "outputs": [],
   "source": [
    "!ngrok authtoken $NGROK_TOKEN"
   ]
  },
  {
   "cell_type": "code",
   "execution_count": 0,
   "metadata": {
    "application/vnd.databricks.v1+cell": {
     "cellMetadata": {},
     "inputWidgets": {},
     "nuid": "63e77fa3-9c20-41a2-bf13-f21c792e9a13",
     "showTitle": false,
     "title": ""
    },
    "colab": {
     "base_uri": "https://localhost:8080/"
    },
    "id": "6dr8x7mQYTuU",
    "outputId": "4672784c-8615-494b-f6da-9098e4687118"
   },
   "outputs": [],
   "source": [
    "from pyngrok import ngrok\n",
    "ngrok.connect(5000, \"http\")"
   ]
  },
  {
   "cell_type": "markdown",
   "metadata": {
    "application/vnd.databricks.v1+cell": {
     "cellMetadata": {},
     "inputWidgets": {},
     "nuid": "af0a1deb-a2a7-4074-94a2-985cbd501811",
     "showTitle": false,
     "title": ""
    },
    "id": "-JXaa5eJBr1T"
   },
   "source": [
    "## Construcción del modelo y registro en mlflow"
   ]
  },
  {
   "cell_type": "code",
   "execution_count": 0,
   "metadata": {
    "application/vnd.databricks.v1+cell": {
     "cellMetadata": {},
     "inputWidgets": {},
     "nuid": "44b7c790-7453-42e4-afcc-dd58fdbb2309",
     "showTitle": false,
     "title": ""
    },
    "collapsed": true,
    "id": "5dqf-s85ZSbM"
   },
   "outputs": [],
   "source": [
    "mlflow.set_tracking_uri(\"http://localhost:5000\")\n",
    "exp_id = mlflow.create_experiment(name=\"final_model\", artifact_location=\"mlruns/final_model/\")\n",
    "\n",
    "run = mlflow.start_run(experiment_id = exp_id, run_name=\"final_model\")\n",
    "\n",
    "from mlflow.models import infer_signature"
   ]
  },
  {
   "cell_type": "code",
   "execution_count": 0,
   "metadata": {
    "application/vnd.databricks.v1+cell": {
     "cellMetadata": {},
     "inputWidgets": {},
     "nuid": "7052f480-9df2-46d4-abaa-0c9c9199f8ca",
     "showTitle": false,
     "title": ""
    },
    "colab": {
     "base_uri": "https://localhost:8080/",
     "height": 544
    },
    "id": "rShwkwnLsJav",
    "outputId": "1aa79cd7-a08d-4fa5-896d-650b7342b15e"
   },
   "outputs": [],
   "source": [
    "X_train = pd.read_csv('/content/proyecto_mlds_6/data/train_test_data/X_train.csv')\n",
    "y_train = pd.read_csv('/content/proyecto_mlds_6/data/train_test_data/y_train.csv')\n",
    "X_test = pd.read_csv('/content/proyecto_mlds_6/data/train_test_data/X_test.csv')\n",
    "y_test = pd.read_csv('/content/proyecto_mlds_6/data/train_test_data/y_test.csv')\n",
    "\n",
    "params = {'n_estimators': 73,\n",
    "          'criterion': 'gini',\n",
    "          'max_depth': 50,\n",
    "          'min_samples_split': 20,\n",
    "          'min_samples_leaf': 2,\n",
    "          'min_weight_fraction_leaf': 2.5214105645479093e-05,\n",
    "          'ccp_alpha': 1.8151142421551003e-05,\n",
    "          'max_samples': 0.959999447846922}\n",
    "model = RandomForestClassifier(**params).fit(X_train, y_train)\n",
    "\n",
    "# Infer the model signature\n",
    "y_pred = model.predict(X_test)\n",
    "signature = infer_signature(X_test, y_pred)\n",
    "\n",
    "# Log parameters and metrics using the MLflow APIs\n",
    "mlflow.log_params(params)\n",
    "mlflow.log_metrics({\"accuracy\": accuracy_score(y_test, y_pred),\n",
    "                    \"f1\": f1_score(y_test, y_pred)})\n",
    "\n",
    "# Confusion matrix\n",
    "mc = confusion_matrix(y_test, y_pred)\n",
    "fig, ax = plt.subplots()\n",
    "sns.heatmap(mc, annot=True, fmt=\"d\", cmap=\"crest\", linewidths=.5, annot_kws={\"size\": 16})\n",
    "ax.set_xlabel(\"Etiquetas predichas\")\n",
    "ax.set_ylabel(\"Etiquetas reales\")\n",
    "ax.set_title(\"Matriz de confusión para el bosque aleatorio\")\n",
    "fig.show()\n",
    "fig.savefig(\"confusion_matrix.png\")\n",
    "mlflow.log_artifact(\"confusion_matrix.png\", \"confusion_matrix\")\n",
    "\n",
    "# Log the sklearn model and register as version 1\n",
    "mlflow.sklearn.log_model(sk_model=model,\n",
    "                         artifact_path=\"final_model\",\n",
    "                         signature=signature,\n",
    "                         registered_model_name=\"final_model\")\n",
    "\n",
    "mlflow.end_run()"
   ]
  },
  {
   "cell_type": "code",
   "execution_count": 0,
   "metadata": {
    "application/vnd.databricks.v1+cell": {
     "cellMetadata": {},
     "inputWidgets": {},
     "nuid": "8aefae2a-8e76-46e7-a039-1d6d62b64873",
     "showTitle": false,
     "title": ""
    },
    "colab": {
     "base_uri": "https://localhost:8080/"
    },
    "id": "mY0goWS4YN0_",
    "outputId": "16512d82-deaa-48fc-9c3a-930291efd661"
   },
   "outputs": [],
   "source": [
    "print('Exactitud: ',accuracy_score(y_test, y_pred))\n",
    "print('Métrica F1: ',f1_score(y_test, y_pred))"
   ]
  },
  {
   "cell_type": "code",
   "execution_count": 0,
   "metadata": {
    "application/vnd.databricks.v1+cell": {
     "cellMetadata": {},
     "inputWidgets": {},
     "nuid": "92977b30-3df0-495b-87e6-8de8d2b80973",
     "showTitle": false,
     "title": ""
    },
    "colab": {
     "base_uri": "https://localhost:8080/"
    },
    "id": "qczFNGGHa0_Q",
    "outputId": "516c988d-d2ac-4915-c111-d94ba704153e"
   },
   "outputs": [],
   "source": [
    "print(classification_report(y_test, y_pred))"
   ]
  },
  {
   "cell_type": "markdown",
   "metadata": {
    "application/vnd.databricks.v1+cell": {
     "cellMetadata": {},
     "inputWidgets": {},
     "nuid": "b991da56-4b41-448d-ab4a-cd1f09adf189",
     "showTitle": false,
     "title": ""
    },
    "id": "Vstz1hkIyKxv"
   },
   "source": [
    "## Despliegue del modelo con *mlflow*"
   ]
  },
  {
   "cell_type": "code",
   "execution_count": 0,
   "metadata": {
    "application/vnd.databricks.v1+cell": {
     "cellMetadata": {},
     "inputWidgets": {},
     "nuid": "2950ccd6-8662-4ebc-8d86-0d705d9c28c8",
     "showTitle": false,
     "title": ""
    },
    "id": "IYAWIvwB9681"
   },
   "outputs": [],
   "source": [
    "os.environ[\"MLFLOW_TRACKING_URI\"] = \"http://localhost:5000\""
   ]
  },
  {
   "cell_type": "code",
   "execution_count": 0,
   "metadata": {
    "application/vnd.databricks.v1+cell": {
     "cellMetadata": {},
     "inputWidgets": {},
     "nuid": "49667ddf-3688-40f4-af84-0922f92c12be",
     "showTitle": false,
     "title": ""
    },
    "id": "j2bq0ZXPyOOA"
   },
   "outputs": [],
   "source": [
    "command = \"\"\"\n",
    "mlflow models serve -m 'models:/final_model/1' -p 8001 --env-manager 'local' &\n",
    "\"\"\"\n",
    "get_ipython().system_raw(command)"
   ]
  },
  {
   "cell_type": "code",
   "execution_count": 0,
   "metadata": {
    "application/vnd.databricks.v1+cell": {
     "cellMetadata": {},
     "inputWidgets": {},
     "nuid": "600feb93-d62d-4039-b3dc-f85103515ee6",
     "showTitle": false,
     "title": ""
    },
    "id": "Mwf6QcVy1Ljx"
   },
   "outputs": [],
   "source": [
    "import requests\n",
    "import json"
   ]
  },
  {
   "cell_type": "code",
   "execution_count": 0,
   "metadata": {
    "application/vnd.databricks.v1+cell": {
     "cellMetadata": {},
     "inputWidgets": {},
     "nuid": "592fa4f6-0785-44c2-bef0-40180bf1eaf6",
     "showTitle": false,
     "title": ""
    },
    "colab": {
     "base_uri": "https://localhost:8080/",
     "height": 163
    },
    "id": "lofq4uIp2sPC",
    "outputId": "ddb5719a-452f-4200-d179-7e8a724f09c2"
   },
   "outputs": [],
   "source": [
    "# Solicitud de predicciones a partir del conjunto de prueba\n",
    "\n",
    "n = 3 # Cantidad de datos con los que se quiere realizar predicciones\n",
    "data_request = X_test.sample(n=n) # Tomo aleatoriamente \"n\" muestras\n",
    "data_request"
   ]
  },
  {
   "cell_type": "code",
   "execution_count": 0,
   "metadata": {
    "application/vnd.databricks.v1+cell": {
     "cellMetadata": {},
     "inputWidgets": {},
     "nuid": "af37d59e-6719-4bec-a63a-cef8ed755962",
     "showTitle": false,
     "title": ""
    },
    "colab": {
     "base_uri": "https://localhost:8080/",
     "height": 143
    },
    "id": "kkYKtx223Z90",
    "outputId": "6dc94569-9ae3-40dd-fa22-2eb9b6330726"
   },
   "outputs": [],
   "source": [
    "# Etiquetas reales para comparar\n",
    "y_test.iloc[data_request.index.values]"
   ]
  },
  {
   "cell_type": "code",
   "execution_count": 0,
   "metadata": {
    "application/vnd.databricks.v1+cell": {
     "cellMetadata": {},
     "inputWidgets": {},
     "nuid": "5d597939-2a63-4b5a-a517-bed8b1851b74",
     "showTitle": false,
     "title": ""
    },
    "colab": {
     "base_uri": "https://localhost:8080/",
     "height": 140
    },
    "id": "svEz_l5tTwWT",
    "outputId": "bfe0fa98-d241-45ee-c1e6-463bc8f4f46c"
   },
   "outputs": [],
   "source": [
    "# Doy a los datos el formato requerido para la solicitud\n",
    "data_request = json.dumps({\"dataframe_split\": data_request.to_dict(orient=\"split\")})\n",
    "display(data_request)"
   ]
  },
  {
   "cell_type": "code",
   "execution_count": 0,
   "metadata": {
    "application/vnd.databricks.v1+cell": {
     "cellMetadata": {},
     "inputWidgets": {},
     "nuid": "1ba3537e-759b-48dd-8a27-6511cc630864",
     "showTitle": false,
     "title": ""
    },
    "colab": {
     "base_uri": "https://localhost:8080/"
    },
    "id": "NVFfvHrzT337",
    "outputId": "d3887bcf-b164-4a99-8e22-66dc02d37255"
   },
   "outputs": [],
   "source": [
    "# Realizo la solicitud\n",
    "r = requests.post(\"http://localhost:8001/invocations\", data=data_request, headers={\"Content-Type\": \"application/json\"})\n",
    "print(r.json())"
   ]
  },
  {
   "cell_type": "markdown",
   "metadata": {
    "application/vnd.databricks.v1+cell": {
     "cellMetadata": {},
     "inputWidgets": {},
     "nuid": "46bf5970-1f64-4228-80a9-7ae0dc619c55",
     "showTitle": false,
     "title": ""
    },
    "id": "3T3bHEocU2T4"
   },
   "source": [
    "## Realizo el 'push' en *git*"
   ]
  },
  {
   "cell_type": "code",
   "execution_count": 0,
   "metadata": {
    "application/vnd.databricks.v1+cell": {
     "cellMetadata": {},
     "inputWidgets": {},
     "nuid": "77a92d45-a1e0-4732-a841-9fbadf12ef58",
     "showTitle": false,
     "title": ""
    },
    "colab": {
     "base_uri": "https://localhost:8080/"
    },
    "id": "_Ny8fQJTUrLn",
    "outputId": "3e018ffe-07ba-4223-a375-3c7eaae3cf99"
   },
   "outputs": [],
   "source": [
    "!git status"
   ]
  },
  {
   "cell_type": "code",
   "execution_count": 0,
   "metadata": {
    "application/vnd.databricks.v1+cell": {
     "cellMetadata": {},
     "inputWidgets": {},
     "nuid": "5886e5d8-e5b5-46ef-b543-3f1cfadadda0",
     "showTitle": false,
     "title": ""
    },
    "colab": {
     "base_uri": "https://localhost:8080/"
    },
    "id": "mfWds9MZwiRM",
    "outputId": "fd96a528-e887-48d2-d38b-0b4a9574be06"
   },
   "outputs": [],
   "source": [
    "!git add hp.db\n",
    "!git add tracking.db\n",
    "!git commit -m \"Archivos modificados por MLFlow\"\n",
    "!git add confusion_matrix.png\n",
    "!git commit -m \"Matriz de confusión del modelo final\"\n",
    "!git add mlruns/final_model/\n",
    "!git commit -m \"Carpeta donde se aloja el modelo final para mlflow\""
   ]
  },
  {
   "cell_type": "code",
   "execution_count": 0,
   "metadata": {
    "application/vnd.databricks.v1+cell": {
     "cellMetadata": {},
     "inputWidgets": {},
     "nuid": "73fd4c45-8dc9-4bf4-8deb-89d9e0ca7505",
     "showTitle": false,
     "title": ""
    },
    "colab": {
     "base_uri": "https://localhost:8080/"
    },
    "id": "v3vvg0ot2_yr",
    "outputId": "a7b10e77-15cb-49cb-b0f6-2585c535811a"
   },
   "outputs": [],
   "source": [
    "!git status"
   ]
  },
  {
   "cell_type": "code",
   "execution_count": 0,
   "metadata": {
    "application/vnd.databricks.v1+cell": {
     "cellMetadata": {},
     "inputWidgets": {},
     "nuid": "7b5e2db5-4109-4fbc-b2b5-41a3ea2661af",
     "showTitle": false,
     "title": ""
    },
    "colab": {
     "base_uri": "https://localhost:8080/"
    },
    "id": "CfaEnucL3WKc",
    "outputId": "0e5bf51d-1773-46a9-c6d5-38e56459cf60"
   },
   "outputs": [],
   "source": [
    "!git commit -m \"Realizo el despliegue del modelo final desde 'mlflow'\""
   ]
  },
  {
   "cell_type": "code",
   "execution_count": 0,
   "metadata": {
    "application/vnd.databricks.v1+cell": {
     "cellMetadata": {},
     "inputWidgets": {},
     "nuid": "ed87ac29-0a13-476a-9f94-ceea81ac2c3b",
     "showTitle": false,
     "title": ""
    },
    "colab": {
     "base_uri": "https://localhost:8080/"
    },
    "id": "hIMVH5KUU-f_",
    "outputId": "5f0975af-54ea-4018-c85f-219b710ba2b5"
   },
   "outputs": [],
   "source": [
    "!git push origin master"
   ]
  },
  {
   "cell_type": "code",
   "execution_count": 0,
   "metadata": {
    "application/vnd.databricks.v1+cell": {
     "cellMetadata": {},
     "inputWidgets": {},
     "nuid": "61fdfdc7-abb7-4b7e-869c-7e26ecb0f1ef",
     "showTitle": false,
     "title": ""
    },
    "colab": {
     "base_uri": "https://localhost:8080/"
    },
    "id": "f1RqoAyCU-W3",
    "outputId": "a7c57390-db59-4986-f8d8-f1e13ef70584"
   },
   "outputs": [],
   "source": [
    "!git status"
   ]
  }
 ],
 "metadata": {
  "application/vnd.databricks.v1+notebook": {
   "dashboards": [],
   "environmentMetadata": null,
   "language": "python",
   "notebookMetadata": {
    "pythonIndentUnit": 4
   },
   "notebookName": "final_model_mlflow",
   "widgets": {}
  },
  "colab": {
   "provenance": []
  },
  "kernelspec": {
   "display_name": "Python 3",
   "name": "python3"
  },
  "language_info": {
   "name": "python"
  }
 },
 "nbformat": 4,
 "nbformat_minor": 0
}
